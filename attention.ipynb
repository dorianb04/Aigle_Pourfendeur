{
 "cells": [{
   "cell_type": "markdown",
   "id": "76cf0406-8613-4ca8-8c3d-79ed97707fff",
   "metadata": {
    "tags": []
   },
   "source": [
    "#### **1.5.1. L'attention Mathématiquement**\n",
    "\n",
    "##### **A. Représentation des séquences**\n",
    "\n",
    "Considérons une sequence $X$ de $n$ tokens : $X = e_1, e_2, ..., e_n$ avec $e_j$ le $j^{eme}$ token au sein de la séquence $X$.\n",
    "\n",
    ">Par exemple, considérons la phrase `Je suis Dorian`, alors la séquence $X$ correspondante est définie par :\n",
    ">$$\n",
    "X = \n",
    "\\begin{pmatrix}\n",
    "e_1=Je\\\\\n",
    "e_2=suis\\\\\n",
    "e_3=Dorian\n",
    "\\end{pmatrix}\n",
    "$$\n",
    "\n",
    "Considérons un token $e_j$ de la séquence $X$, alors la représentation vectoriel de ce token avant le layer d'attention est $h_j\\in \\mathbb{R}^d$ :\n",
    "$$\n",
    "h_j = \n",
    "\\begin{pmatrix}\n",
    "h_{j1}\\\\\n",
    "h_{j2}\\\\\n",
    "\\vdots\\\\\n",
    "h_{jd}\n",
    "\\end{pmatrix}\n",
    "$$\n",
    "\n",
    "- $d :$ La dimension de la représentation vectorielle du token $h_j$\n",
    "\n",
    "La matrice $H$, avec $H\\in \\mathbb{R}^{d \\times n},$ contenant toutes les representations des tokens **avant** le layer d'attention est alors : \n",
    "$$\n",
    "H = \n",
    "\\begin{pmatrix}\n",
    "h_{1,1} & h_{2,1} & \\cdots & h_{j,1} & \\cdots & h_{n,1} \\\\\n",
    "h_{1,2} & h_{2,2} & \\cdots & h_{j,2} & \\cdots & h_{n,2} \\\\\n",
    "\\vdots & \\vdots & & \\vdots & \\ddots  & \\vdots \\\\\n",
    "h_{1,d} & h_{2,d} & \\cdots & h_{j,d} & \\cdots & h_{n,d} \n",
    "\\end{pmatrix}\n",
    "$$\n",
    "\n",
    "##### **B. Calcul de l'attention**\n",
    "\n",
    "\n",
    "**B.1. Calcul du score d'attention**\n",
    "\n",
    "\n",
    "Le score d'attention $a_j$ pour le token $h_j$ est défini par :\n",
    "$$a_j = \\frac{h_{j}^{T}C}{\\lambda}$$\n",
    "- *$C \\in \\mathbb{R}^d:$* Le vecteur de contexte. Ce vecteur peut être vu comme une représentation de haut niveau d'une requête sur *\"quel mot de la sequence est le plus informatif\"*. Ce vecteur de contexte $C$ est initialisé the manière aléatoire et est actualisé/appris conjointement pendant le processus d'apprentissage.\n",
    "\n",
    "- $\\lambda :$ Le facteur d'échelle qui est souvent défini par une grande valeur, typiquement $\\sqrt{d}$ où $d$ est le nombre d'éléments de $h_j$.\n",
    "\n",
    "\n",
    "**B.2. Calcul du poids d'attention**\n",
    "\n",
    "\n",
    "On obtient ainsi à partir de ce score d'attention $a_j$, le poids d'attention $\\gamma_j \\in \\mathbb{R}$ :\n",
    "$$\\gamma_j = \\frac{exp(a_j)}{\\sum_k exp(a_k)} = softmax(a_j)$$\n",
    "\n",
    "On calcul enfin le vecteur $h'_j$, tq $h'_j \\in \\mathbb{R}^{d}$ comme la représentation vectorielle du token $e_j$ : $h_j$ pondérée par son poids d'attention $\\gamma_j$:\n",
    "$$h'_j= \\gamma_jh_j$$\n",
    "\n",
    "La matrice $H'$, tq $H'\\in \\mathbb{R}^{d \\times n},$ contenant toutes les representations des tokens **après** le layer d'attention est alors :\n",
    "$$\n",
    "H' = \n",
    "\\begin{pmatrix}\n",
    "h'_{1,1} & h'_{2,1} & \\cdots & h'_{j,1} & \\cdots & h'_{n,1} \\\\\n",
    "h'_{1,2} & h'_{2,2} & \\cdots & h'_{j,2} & \\cdots & h'_{n,2} \\\\\n",
    "\\vdots & \\vdots & & \\vdots & \\ddots  & \\vdots \\\\\n",
    "h'_{1,d} & h'_{2,d} & \\cdots & h'_{j,d} & \\cdots & h'_{n,d} \n",
    "\\end{pmatrix}\n",
    "$$\n",
    "\n",
    "\n",
    "**Nouvelle Structue du RCNN avec Attention**\n",
    "\n",
    "$$RCNNClassifier :$$\n",
    "  $$(embedding)$$\n",
    "  $$\\downarrow$$\n",
    "  $$(rnn)$$\n",
    "  $$\\downarrow$$\n",
    "  $$(attention)$$\n",
    "  $$\\downarrow$$\n",
    "  $$(pooling)$$\n",
    "  $$\\downarrow$$\n",
    "  $$(linear)$$\n",
    "  $$\\downarrow$$\n",
    "  $$(linear)$$\n",
    "  $$\\downarrow$$\n",
    "  $$predictions$$"
   ]
  },
  {
   "cell_type": "markdown",
   "id": "78e17f05-ac6c-4f81-b44d-9e8cd0f3c5d2",
   "metadata": {},
   "source": [
    "#### **1.5.2. Vectorisation du méchanimse d'attention**"
   ]
  },
  {
   "cell_type": "markdown",
   "id": "455c986a-03af-4b7d-bec2-4a8d245354e5",
   "metadata": {},
   "source": [
    "##### **A. Initialisation des tenseurs**"
   ]
  },
  {
   "cell_type": "markdown",
   "id": "5faff2d7-9a78-4dfc-ab0b-9a343d55237b",
   "metadata": {},
   "source": [
    "On commence par définir $H$ et $C$ qui seront nos tenseurs qui contiendront respectivement les représentations vectorielle des tokens de $n$ séquence, ainsi que le vecteur de context.\n",
    "\n",
    "- `b` représente le nombre de séquences\n",
    "- `n` le nombre de tokens dans chaque séquence\n",
    "- `d` la dimension dans laquelle sont représentés les vecteurs des tokens\n",
    "\n",
    "soit les dimensions des deux tenseurs :\n",
    "- $H \\in \\mathbb{R}^{b \\times n \\times d}$\n",
    "- $C \\in \\mathbb{R}^{d}$"
   ]
  },
  {
   "cell_type": "code",
   "execution_count": 101,
   "id": "6312866d-fcc1-4e32-acd1-8818933a828a",
   "metadata": {
    "tags": []
   },
   "outputs": [
    {
     "name": "stdout",
     "output_type": "stream",
     "text": [
      "2 embedded sequence H : \n",
      " torch.Size([2, 4, 5]) \n",
      " tensor([[[-0.4819,  1.4950, -1.4688,  0.6827,  0.3258],\n",
      "         [ 0.5122,  1.2784,  1.4633,  1.8598, -1.0470],\n",
      "         [-0.7455, -0.6188, -0.3958,  1.4219, -0.6399],\n",
      "         [ 2.6214, -0.5536, -0.7393, -1.1938, -1.8634]],\n",
      "\n",
      "        [[ 0.4392, -1.2443, -2.0950, -0.7921, -0.1704],\n",
      "         [ 0.5200, -0.5217, -0.0728,  0.0324,  0.2185],\n",
      "         [-0.3771,  0.9727,  1.1127,  0.2002, -0.6053],\n",
      "         [-2.7837, -0.8259,  1.0619,  1.1062, -1.2159]]])\n",
      "\n",
      "The context Vector C :\n",
      " torch.Size([5]) \n",
      " tensor([ 0.6890,  0.8993, -0.2947, -1.0022,  1.0287])\n"
     ]
    }
   ],
   "source": [
    "b = 2\n",
    "n = 4\n",
    "d = 5\n",
    "\n",
    "H = torch.randn(b,n,d)\n",
    "C = torch.randn(d)\n",
    "\n",
    "print(f\"{b} embedded sequence H :\",\"\\n\",H.size(),\"\\n\",H)\n",
    "print(\"\\nThe context Vector C :\\n\", C.size(),\"\\n\", C)"
   ]
  },
  {
   "cell_type": "markdown",
   "id": "5d96e2b7-c5b3-496f-80e5-5409c1100d51",
   "metadata": {},
   "source": [
    "##### **B. Calcul du tenseur des scores d'attention**"
   ]
  },
  {
   "cell_type": "markdown",
   "id": "384fe496-2d3f-4b07-a723-e13fadd73f58",
   "metadata": {},
   "source": [
    "Soit $A$, le tenseur qui contient tous les scores d'attention pour chaque tokens. D'après la formule du score d'attention, on a $A \\in \\mathbb{R}^{b \\times n}$.\n",
    "\n",
    "Il suffit donc d'effectuer une multiplication matricielle entre les deux tenseurs $H$ et $C$, normalisée par $\\sqrt{d}$, pour obtenir $A$"
   ]
  },
  {
   "cell_type": "code",
   "execution_count": 102,
   "id": "4ab8926d-9ffa-4e7a-b809-78b8e6f47c30",
   "metadata": {
    "tags": []
   },
   "outputs": [
    {
     "name": "stdout",
     "output_type": "stream",
     "text": [
      "\n",
      "The attentions scores of the tokens for the 2 sequences :\n",
      " torch.Size([2, 4]) \n",
      " tensor([[ 0.4903, -0.8361, -1.3582,  0.3604],\n",
      "        [ 0.1876,  0.0460, -0.2399, -2.3852]])\n"
     ]
    }
   ],
   "source": [
    "A = torch.matmul(H,C)/(d**(1/2))\n",
    "print(f\"\\nThe attentions scores of the tokens for the {b} sequences :\\n\", A.size(), \"\\n\", A)"
   ]
  },
  {
   "cell_type": "markdown",
   "id": "04f9e9ee-bb34-4013-aa5b-1673a47408df",
   "metadata": {},
   "source": [
    "##### **C. Calcul du tenseur des poids d'attention**"
   ]
  },
  {
   "cell_type": "markdown",
   "id": "5791b62a-ffe1-4781-a1ca-4e2a684dca92",
   "metadata": {},
   "source": [
    "Soit $\\Gamma$, le tenseur contenant tous les poids d'attentions $\\gamma_{jk}$ des tokens de chaque séquence.\n",
    "\n",
    "Pour obtenir $\\Gamma$, il suffit d'appliquer une $softmax$ sur le tenseur $A$. On obtient alors $\\Gamma \\in \\mathbb{R}^{b \\times n}$"
   ]
  },
  {
   "cell_type": "code",
   "execution_count": 103,
   "id": "fa0bac75-aa1c-4bec-a543-731e3489beb7",
   "metadata": {
    "tags": []
   },
   "outputs": [
    {
     "name": "stdout",
     "output_type": "stream",
     "text": [
      "\n",
      "the attention weights for the 2 sequences :\n",
      " torch.Size([2, 4]) \n",
      " tensor([[0.4346, 0.1154, 0.0684, 0.3816],\n",
      "        [0.3852, 0.3343, 0.2512, 0.0294]])\n"
     ]
    }
   ],
   "source": [
    "Gamma = nn.Softmax(dim=1)(A)\n",
    "print(f\"\\nthe attention weights for the {b} sequences :\\n\", Gamma.size(), \"\\n\", Gamma)"
   ]
  },
  {
   "cell_type": "markdown",
   "id": "cd7eb63b-96aa-465f-9057-22113f805e36",
   "metadata": {},
   "source": [
    "##### **D. Projection des poids d'attention de $\\Gamma$ sur chaque tokens de $H$**"
   ]
  },
  {
   "cell_type": "markdown",
   "id": "83130229-786f-4b6d-9443-7cc3c1edb56f",
   "metadata": {},
   "source": [
    "Soit $H'$, le nouveau tenseur contenant les séquences dont les tokens ont été pondérés par les poids d'attention de $\\Gamma$.\n",
    "\n",
    "Pour obtenir $H'$, il y a 2 possibilités :\n",
    "- Itérer sur chaque séquence\n",
    "- Effectuer un calcul matriciel sur la totalité du tenseur permettant de ne pas avoir à recourir à plusieurs itérations\n",
    "\n",
    "Comprenons tout d'abord comment itérer sur chaque séquence.\n",
    "\n",
    "**Méthode par itération**\n",
    "\n",
    "Soit $h_j$, la séquence $j$ de $H$. Pour pouvoir projeter la valeur des poids d'attentions contenus dans $\\gamma_j$ sur $h_j$ (multiplication scalaire), il est nécessaire de transformer le tenseur $\\Gamma$.\n",
    "\n",
    "En effet, comme nous avons $dim(\\Gamma)=(b,n)$ et $dim(H)=(b, n, d)$, il n'est pas possible de multiplier ces deux tenseurs entre eux pour obtenir la projection scalaire. \n",
    "\n",
    "Pour effectuer cette opération, on commence par transformer $\\Gamma$ de sorte à ce que $dim(\\Gamma)=(b,1,n)$ pour que les tenseurs soient de même $ordre$ (ici $ordre = 3$)."
   ]
  },
  {
   "cell_type": "code",
   "execution_count": 104,
   "id": "b2a75ab1-528a-48bf-952e-f5e250997f63",
   "metadata": {},
   "outputs": [
    {
     "data": {
      "text/plain": [
       "tensor([[[0.4346, 0.1154, 0.0684, 0.3816]],\n",
       "\n",
       "        [[0.3852, 0.3343, 0.2512, 0.0294]]])"
      ]
     },
     "execution_count": 104,
     "metadata": {},
     "output_type": "execute_result"
    }
   ],
   "source": [
    "Gamma_prime = Gamma.reshape(H.size()[0],1,H.size()[1])\n",
    "Gamma_prime"
   ]
  },
  {
   "cell_type": "markdown",
   "id": "f7b3e4c4-de41-4d71-8181-e442d7672256",
   "metadata": {},
   "source": [
    "Il est cependant encore impossible d'effectuer la projection scalaire par multiplication tensorielle entre $\\Gamma$ et $H$ $\\forall n$ car la dimension $2$ de $H$ n'est pas toujours égale à celle de $\\Gamma$ ($\\exists n \\in \\mathbb{R}, n \\neq 1$). \n",
    "\n",
    "Pour palier à ce problème, on concatène des tenseurs nuls $\\Theta$, tq $dim(\\Theta)=(n-1,n)$, à chaque tenseurs au sein de la dimension 1 de $\\Gamma'$ pour obtenir $\\Gamma''$. On obtient alors $dim(\\Gamma'')=(b, n, n)$."
   ]
  },
  {
   "cell_type": "code",
   "execution_count": 105,
   "id": "e68ea47d-edac-4401-8335-c35de336c0b6",
   "metadata": {},
   "outputs": [
    {
     "data": {
      "text/plain": [
       "tensor([[[0.4346, 0.1154, 0.0684, 0.3816],\n",
       "         [0.0000, 0.0000, 0.0000, 0.0000],\n",
       "         [0.0000, 0.0000, 0.0000, 0.0000],\n",
       "         [0.0000, 0.0000, 0.0000, 0.0000]],\n",
       "\n",
       "        [[0.3852, 0.3343, 0.2512, 0.0294],\n",
       "         [0.0000, 0.0000, 0.0000, 0.0000],\n",
       "         [0.0000, 0.0000, 0.0000, 0.0000],\n",
       "         [0.0000, 0.0000, 0.0000, 0.0000]]])"
      ]
     },
     "execution_count": 105,
     "metadata": {},
     "output_type": "execute_result"
    }
   ],
   "source": [
    "Thetas = torch.zeros(H.size()[0],H.size()[1]-1,H.size()[1])\n",
    "new_Gamma = torch.cat((Gamma_prime, Thetas), 1)\n",
    "new_Gamma"
   ]
  },
  {
   "cell_type": "markdown",
   "id": "d11f9874-fe3e-4693-aec8-baefb92a9c76",
   "metadata": {},
   "source": [
    "Avec $\\Gamma''$, il est alors possible de projeter les poids d'attentions $\\gamma_jk$ contenus dans les premiers vecteurs de chaques tenseurs de $\\Gamma$ sur chaque token des séquences de $H$. \n",
    "\n",
    "En effet, posons $\\gamma_j$, le tenseurs $j$ des poids d'attentions et $h_j$, le tenseur $j$ de la représentation vectorielle de la séquence $j$. Alors $h_j'=\\gamma_j^Th_j$.\n",
    "\n",
    "On peut donc itérer sur $j$ pour obtenir la nouvelle représentation tensorielle $h_j'$ de $h_j$ après attention. Il suffit ainsi de rasssembler tous ces tenseurs dans un seul et même tenseur $H_j'$ pour obtenir les nouvelles représentations des séquences avec attention."
   ]
  },
  {
   "cell_type": "code",
   "execution_count": 106,
   "id": "91b186b0-8680-416b-a8f6-42ec6284683f",
   "metadata": {},
   "outputs": [
    {
     "name": "stdout",
     "output_type": "stream",
     "text": [
      "CPU times: user 249 µs, sys: 907 µs, total: 1.16 ms\n",
      "Wall time: 790 µs\n"
     ]
    },
    {
     "data": {
      "text/plain": [
       "tensor([[[-0.2094,  0.6497, -0.6383,  0.2967,  0.1416],\n",
       "         [-0.0556,  0.1725, -0.1694,  0.0788,  0.0376],\n",
       "         [-0.0330,  0.1023, -0.1005,  0.0467,  0.0223],\n",
       "         [-0.1839,  0.5705, -0.5605,  0.2605,  0.1243]],\n",
       "\n",
       "        [[ 0.1692, -0.4792, -0.8069, -0.3051, -0.0656],\n",
       "         [ 0.1468, -0.4160, -0.7003, -0.2648, -0.0570],\n",
       "         [ 0.1103, -0.3125, -0.5262, -0.1989, -0.0428],\n",
       "         [ 0.0129, -0.0366, -0.0616, -0.0233, -0.0050]]])"
      ]
     },
     "execution_count": 106,
     "metadata": {},
     "output_type": "execute_result"
    }
   ],
   "source": [
    "%%time\n",
    "H_prime = torch.tensor([])\n",
    "for j in range(b):\n",
    "    h_prime = new_Gamma[j].T @ H[j] \n",
    "    H_prime = torch.cat((H_prime, h_prime.reshape(1,h_prime.size(0), h_prime.size(1))))\n",
    "H_prime"
   ]
  },
  {
   "cell_type": "markdown",
   "id": "b5f6d80c-e00f-49e1-80af-d57aa30dbb00",
   "metadata": {},
   "source": [
    "**Méthode par multiplication tensorielle**"
   ]
  },
  {
   "cell_type": "markdown",
   "id": "d6dbcecb-3278-480d-a8f6-76cf759c05da",
   "metadata": {},
   "source": [
    "Il est très souvent déconseillé de créer des itérations dans nos algorithmes car cela multiplie énormément le nombre d'opération à faire. C'est pourquoi il est préférable de trouver une autre manière d'obtenir $H'$.\n",
    "\n",
    "Il existe encore une fois 2 méthodes :\n",
    "- Reprendre les étapes de la méthode par itération\n",
    "- Transformer nos deux tenseurs en tenseurs 4D\n",
    "\n",
    "Pour la première méthode, on reprend toutes les opérations jusqu'à l'obtention de $\\Gamma''$ utilisées précédemment."
   ]
  },
  {
   "cell_type": "code",
   "execution_count": 107,
   "id": "45632def-7488-4b4e-ad9a-737914cfa9be",
   "metadata": {},
   "outputs": [],
   "source": [
    "Gamma_prime = Gamma.reshape(H.size()[0],1,H.size()[1])\n",
    "Thetas = torch.zeros(H.size()[0],H.size()[1]-1,H.size()[1])\n",
    "new_Gamma = torch.cat((Gamma_prime, Thetas), 1)"
   ]
  },
  {
   "cell_type": "markdown",
   "id": "1923016e-013e-4cdd-ab0e-64f6ee7f6ef2",
   "metadata": {},
   "source": [
    "La dernière étape change car on peut simplement utiliser une multiplication tensorielle entre $\\Gamma''$ et $H$ pour obtenir $H'$:\n",
    "$$H'=\\Gamma''^{T_{dim(-2)}}H$$\n",
    "> $X^{T_{dim(-2)}}$ désigne la transposée de $X$ selon ses 2 dernières dimensions"
   ]
  },
  {
   "cell_type": "code",
   "execution_count": 108,
   "id": "b0cc5fe7-d789-4dfd-9928-71012d7bc757",
   "metadata": {},
   "outputs": [
    {
     "data": {
      "text/plain": [
       "tensor([[[0.4346, 0.0000, 0.0000, 0.0000],\n",
       "         [0.1154, 0.0000, 0.0000, 0.0000],\n",
       "         [0.0684, 0.0000, 0.0000, 0.0000],\n",
       "         [0.3816, 0.0000, 0.0000, 0.0000]],\n",
       "\n",
       "        [[0.3852, 0.0000, 0.0000, 0.0000],\n",
       "         [0.3343, 0.0000, 0.0000, 0.0000],\n",
       "         [0.2512, 0.0000, 0.0000, 0.0000],\n",
       "         [0.0294, 0.0000, 0.0000, 0.0000]]])"
      ]
     },
     "execution_count": 108,
     "metadata": {},
     "output_type": "execute_result"
    }
   ],
   "source": [
    "new_Gamma.mT"
   ]
  },
  {
   "cell_type": "code",
   "execution_count": 110,
   "id": "ea237a5e-bea7-46b3-8f65-0419f8916604",
   "metadata": {},
   "outputs": [
    {
     "name": "stdout",
     "output_type": "stream",
     "text": [
      "\n",
      "The 2 weighted sequences after attention :\n",
      " torch.Size([2, 4, 5]) \n",
      " tensor([[[-0.2094,  0.6497, -0.6383,  0.2967,  0.1416],\n",
      "         [-0.0556,  0.1725, -0.1694,  0.0788,  0.0376],\n",
      "         [-0.0330,  0.1023, -0.1005,  0.0467,  0.0223],\n",
      "         [-0.1839,  0.5705, -0.5605,  0.2605,  0.1243]],\n",
      "\n",
      "        [[ 0.1692, -0.4792, -0.8069, -0.3051, -0.0656],\n",
      "         [ 0.1468, -0.4160, -0.7003, -0.2648, -0.0570],\n",
      "         [ 0.1103, -0.3125, -0.5262, -0.1989, -0.0428],\n",
      "         [ 0.0129, -0.0366, -0.0616, -0.0233, -0.0050]]])\n",
      "CPU times: user 113 ms, sys: 6.9 ms, total: 120 ms\n",
      "Wall time: 5.09 ms\n"
     ]
    }
   ],
   "source": [
    "%%time\n",
    "H_prime = new_Gamma.mT @ H\n",
    "print(f\"\\nThe {b} weighted sequences after attention :\\n\", H_prime.size(), \"\\n\",H_prime)"
   ]
  },
  {
   "cell_type": "markdown",
   "id": "e455632a-5a37-448e-9328-f4fa5cf47240",
   "metadata": {},
   "source": [
    "L'autre méthode est de transformer le tenseur $H$ en tenseur $4D$. La première dimension contiendra 2 éléments :\n",
    "- Un tenseur contenant les tenseurs des séquences\n",
    "- Un tenseur contenant des tenseurs nuls de même taille que ceux du premier élément\n",
    "\n",
    "Cette opération est similaire à celle employé dans les deux méthodes précédentes car elle concatène des tenseurs nuls pour pouvoir effectuer une projection scalaire sur les séquence en utilisant une multiplication tensorielle.\n",
    "\n",
    "Le tenseur $\\Gamma$ doit aussi être transformé pour pouvoir être projeté sur le tenseur $H$ en concatenant de manière similaire des tenseurs nuls dans la dimension 2 de $H$."
   ]
  },
  {
   "cell_type": "code",
   "execution_count": 111,
   "id": "f84fcc6c-9f9a-4a55-ad51-1138793970a2",
   "metadata": {},
   "outputs": [
    {
     "data": {
      "text/plain": [
       "tensor([[[[-0.4819,  1.4950, -1.4688,  0.6827,  0.3258],\n",
       "          [ 0.5122,  1.2784,  1.4633,  1.8598, -1.0470],\n",
       "          [-0.7455, -0.6188, -0.3958,  1.4219, -0.6399],\n",
       "          [ 2.6214, -0.5536, -0.7393, -1.1938, -1.8634]],\n",
       "\n",
       "         [[ 0.4392, -1.2443, -2.0950, -0.7921, -0.1704],\n",
       "          [ 0.5200, -0.5217, -0.0728,  0.0324,  0.2185],\n",
       "          [-0.3771,  0.9727,  1.1127,  0.2002, -0.6053],\n",
       "          [-2.7837, -0.8259,  1.0619,  1.1062, -1.2159]]],\n",
       "\n",
       "\n",
       "        [[[ 0.0000,  0.0000,  0.0000,  0.0000,  0.0000],\n",
       "          [ 0.0000,  0.0000,  0.0000,  0.0000,  0.0000],\n",
       "          [ 0.0000,  0.0000,  0.0000,  0.0000,  0.0000],\n",
       "          [ 0.0000,  0.0000,  0.0000,  0.0000,  0.0000]],\n",
       "\n",
       "         [[ 0.0000,  0.0000,  0.0000,  0.0000,  0.0000],\n",
       "          [ 0.0000,  0.0000,  0.0000,  0.0000,  0.0000],\n",
       "          [ 0.0000,  0.0000,  0.0000,  0.0000,  0.0000],\n",
       "          [ 0.0000,  0.0000,  0.0000,  0.0000,  0.0000]]]])"
      ]
     },
     "execution_count": 111,
     "metadata": {},
     "output_type": "execute_result"
    }
   ],
   "source": [
    "new_H = torch.cat((H.reshape(1, *H.size()), torch.zeros(1,*H.size())), 0)\n",
    "new_H"
   ]
  },
  {
   "cell_type": "code",
   "execution_count": 112,
   "id": "9337f429-f7aa-4d16-8645-35b299edb68c",
   "metadata": {},
   "outputs": [
    {
     "data": {
      "text/plain": [
       "tensor([[[0.4346, 0.0000, 0.0000, 0.0000],\n",
       "         [0.1154, 0.0000, 0.0000, 0.0000],\n",
       "         [0.0684, 0.0000, 0.0000, 0.0000],\n",
       "         [0.3816, 0.0000, 0.0000, 0.0000]],\n",
       "\n",
       "        [[0.3852, 0.0000, 0.0000, 0.0000],\n",
       "         [0.3343, 0.0000, 0.0000, 0.0000],\n",
       "         [0.2512, 0.0000, 0.0000, 0.0000],\n",
       "         [0.0294, 0.0000, 0.0000, 0.0000]]])"
      ]
     },
     "execution_count": 112,
     "metadata": {},
     "output_type": "execute_result"
    }
   ],
   "source": [
    "new_Gamma = torch.cat((Gamma.reshape(*Gamma.size(),1), torch.zeros(*Gamma.size(),H.size()[-2]-1)), 2)\n",
    "new_Gamma"
   ]
  },
  {
   "cell_type": "markdown",
   "id": "9725a0d6-b849-469c-8653-a479ab94227b",
   "metadata": {},
   "source": [
    "On effectue ainsi le produit tensoriel entre $\\Gamma_{tf}$ et $H_{tf}$ et il suffit de ne conserver que le premier élément de ce produit pour obtenir $H'$"
   ]
  },
  {
   "cell_type": "code",
   "execution_count": 113,
   "id": "7cf6cc0a-45bd-4962-ab88-5d0e438be328",
   "metadata": {},
   "outputs": [
    {
     "data": {
      "text/plain": [
       "tensor([[[[-0.2094,  0.6497, -0.6383,  0.2967,  0.1416],\n",
       "          [-0.0556,  0.1725, -0.1694,  0.0788,  0.0376],\n",
       "          [-0.0330,  0.1023, -0.1005,  0.0467,  0.0223],\n",
       "          [-0.1839,  0.5705, -0.5605,  0.2605,  0.1243]],\n",
       "\n",
       "         [[ 0.1692, -0.4792, -0.8069, -0.3051, -0.0656],\n",
       "          [ 0.1468, -0.4160, -0.7003, -0.2648, -0.0570],\n",
       "          [ 0.1103, -0.3125, -0.5262, -0.1989, -0.0428],\n",
       "          [ 0.0129, -0.0366, -0.0616, -0.0233, -0.0050]]],\n",
       "\n",
       "\n",
       "        [[[ 0.0000,  0.0000,  0.0000,  0.0000,  0.0000],\n",
       "          [ 0.0000,  0.0000,  0.0000,  0.0000,  0.0000],\n",
       "          [ 0.0000,  0.0000,  0.0000,  0.0000,  0.0000],\n",
       "          [ 0.0000,  0.0000,  0.0000,  0.0000,  0.0000]],\n",
       "\n",
       "         [[ 0.0000,  0.0000,  0.0000,  0.0000,  0.0000],\n",
       "          [ 0.0000,  0.0000,  0.0000,  0.0000,  0.0000],\n",
       "          [ 0.0000,  0.0000,  0.0000,  0.0000,  0.0000],\n",
       "          [ 0.0000,  0.0000,  0.0000,  0.0000,  0.0000]]]])"
      ]
     },
     "execution_count": 113,
     "metadata": {},
     "output_type": "execute_result"
    }
   ],
   "source": [
    "(new_Gamma @ new_H)"
   ]
  },
  {
   "cell_type": "markdown",
   "id": "94b7431b-da8d-4847-b68e-5af5adb79b4e",
   "metadata": {},
   "source": [
    "#### **1.5.3. Comparaison des temps de calculs des différentes méthodes de calcul de l'Attention**"
   ]
  },
  {
   "cell_type": "code",
   "execution_count": 114,
   "id": "55a2856f-497a-461b-8f28-25d5d2b87b8c",
   "metadata": {},
   "outputs": [
    {
     "name": "stdout",
     "output_type": "stream",
     "text": [
      "CPU times: user 5 µs, sys: 0 ns, total: 5 µs\n",
      "Wall time: 8.11 µs\n"
     ]
    }
   ],
   "source": [
    "%%time\n",
    "def compute_attention_matrix_1(h, alpha):\n",
    "    new_h = torch.cat((h.reshape(1, *h.size()), torch.zeros(1,*h.size())), 0)\n",
    "    new_alpha = torch.cat((alpha.reshape(*alpha.size(),1), torch.zeros(*alpha.size(),h.size()[-2]-1)), 2)\n",
    "    X_prime = (new_alpha @ new_h).sum(-2)[0]"
   ]
  },
  {
   "cell_type": "code",
   "execution_count": 115,
   "id": "e2f2366b-977d-4176-ac74-0dc9310dc568",
   "metadata": {},
   "outputs": [
    {
     "name": "stdout",
     "output_type": "stream",
     "text": [
      "CPU times: user 4 µs, sys: 0 ns, total: 4 µs\n",
      "Wall time: 7.63 µs\n"
     ]
    }
   ],
   "source": [
    "%%time\n",
    "def compute_attention_matrix_2(H, Gamma):\n",
    "    Gamma_prime = Gamma.reshape(H.size()[0],1,H.size()[1])\n",
    "    Thetas = torch.zeros(H.size()[0],H.size()[1]-1,H.size()[1])\n",
    "    new_Gamma = torch.cat((Gamma_prime, Thetas), 1)\n",
    "    H_prime = new_Gamma.mT @ H"
   ]
  },
  {
   "cell_type": "code",
   "execution_count": 116,
   "id": "112c06de-8b24-4468-8093-ff734735d219",
   "metadata": {},
   "outputs": [
    {
     "name": "stdout",
     "output_type": "stream",
     "text": [
      "CPU times: user 4 µs, sys: 0 ns, total: 4 µs\n",
      "Wall time: 7.39 µs\n"
     ]
    }
   ],
   "source": [
    "%%time\n",
    "def compute_attention_loop(h, alpha):\n",
    "    for i in range(h.size(0)):\n",
    "        (torch.cat((alpha.reshape(h.size()[0],1,h.size()[1]), torch.zeros(h.size()[0],h.size()[1]-1,h.size()[1])), 1)[i].T @ h[i])"
   ]
  },
  {
   "cell_type": "code",
   "execution_count": 117,
   "id": "c40d0bcd-df91-4a4b-9a3e-ca1d37c2bb94",
   "metadata": {},
   "outputs": [],
   "source": [
    "import time\n",
    "def compare_attention_computation(h, alpha):   \n",
    "    t1l = time.time()\n",
    "    compute_attention_loop(h, alpha)\n",
    "    t2l = time.time() - t1l\n",
    "    t1m1 = time.time()\n",
    "    compute_attention_matrix_1(h, alpha)\n",
    "    t2m1 = time.time() - t1m1\n",
    "    t1m2 = time.time()\n",
    "    compute_attention_matrix_2(h, alpha)\n",
    "    t2m2 = time.time() - t1m1\n",
    "    return t2l, t2m1, t2m2"
   ]
  },
  {
   "cell_type": "code",
   "execution_count": 585,
   "id": "60ba229c-0dd1-45be-ae74-fe9c045ddbe0",
   "metadata": {},
   "outputs": [],
   "source": [
    "def plot_diff_computation_attention(batch_size, inf=1, sup=10, token_len=76, hidden_size=768):\n",
    "    time_m1 = []\n",
    "    time_m2 = []\n",
    "    time_l = []\n",
    "    x = [i for i in range(inf, sup)]\n",
    "    for i in tqdm(range(inf, sup)):\n",
    "        h = torch.randn(batch_size*i,token_len,hidden_size)\n",
    "        C = torch.randn(hidden_size)\n",
    "        a = torch.matmul(h,C)/(hidden_size**(1/2))\n",
    "        alpha = torch.exp(a)/torch.sum(torch.exp(a))\n",
    "        \n",
    "        l, m1, m2 = compare_attention_computation(h, alpha)\n",
    "        time_m1.append(m1)\n",
    "        time_m2.append(m2)\n",
    "        time_l.append(l)\n",
    "        \n",
    "    \n",
    "    fig, ax = plt.subplots(figsize=(15,8))\n",
    "    ax.scatter(x, time_m1, color='red', label=\"matrix time method 1\")\n",
    "    ax.scatter(x, time_m2, color='green', label=\"matrix time method 2\")\n",
    "    ax.scatter(x, time_l, color='blue', label=\"loop time\")\n",
    "    plt.ylabel('seconds')\n",
    "    plt.xlabel(f'number of batch')\n",
    "    plt.title(f\"Calculation time difference depending on batch number, batch size = {batch_size}\")\n",
    "    plt.legend()\n",
    "    plt.show()\n",
    "    return x, time_l, time_m1, time_m2"
   ]
  },
  {
   "cell_type": "code",
   "execution_count": 586,
   "id": "62f8a4ce-0234-499c-8974-e6183cf2b5cf",
   "metadata": {},
   "outputs": [
    {
     "name": "stderr",
     "output_type": "stream",
     "text": [
      "100%|███████████████████████████████████████████████████████████████████████████████████| 59/59 [23:08<00:00, 23.53s/it]\n"
     ]
    },
    {
     "data": {
      "image/png": "[encoded data removed]",
      "text/plain": [
       "<Figure size 1080x576 with 1 Axes>"
      ]
     },
     "metadata": {
      "needs_background": "light"
     },
     "output_type": "display_data"
    }
   ],
   "source": [
    "x, time_l, time_m1, time_m2 = plot_diff_computation_attention(100, inf=1, sup=60)"
   ]
  },
  {
   "cell_type": "code",
   "execution_count": 604,
   "id": "e9863371-c0d0-48e2-90d9-90f772fed856",
   "metadata": {},
   "outputs": [
    {
     "data": {
      "image/png": "[encoded data removed]",
      "text/plain": [
       "<Figure size 1080x576 with 1 Axes>"
      ]
     },
     "metadata": {
      "needs_background": "light"
     },
     "output_type": "display_data"
    }
   ],
   "source": [
    "fig, ax = plt.subplots(figsize=(15,8))\n",
    "ax.scatter(x[:-7], time_m1[:-7], color='red', label=\"matrix time method 1\")\n",
    "ax.scatter(x[:-7], time_m2[:-7], color='green', label=\"matrix time method 2\")\n",
    "ax.scatter(x[:-7], time_l[:-7], color='blue', label=\"loop time\")\n",
    "plt.ylabel('seconds')\n",
    "plt.xlabel(f'number of batch')\n",
    "plt.title(f\"Computation time difference depending on batch number, batch size = {100}\")\n",
    "plt.legend()\n",
    "plt.show()"
   ]
  },
  {
   "cell_type": "code",
   "execution_count": 603,
   "id": "175c8a92-f356-4e4f-80f0-598fd2c7b124",
   "metadata": {},
   "outputs": [
    {
     "data": {
      "image/png": "[encoded data removed]",
      "text/plain": [
       "<Figure size 1080x576 with 1 Axes>"
      ]
     },
     "metadata": {
      "needs_background": "light"
     },
     "output_type": "display_data"
    }
   ],
   "source": [
    "fig, ax = plt.subplots(figsize=(15,8))\n",
    "ax.scatter(x[:-7], time_m1[:-7], color='red', label=\"matrix time method 1\")\n",
    "ax.scatter(x[:-7], time_m2[:-7], color='green', label=\"matrix time method 2\")\n",
    "plt.ylabel('seconds')\n",
    "plt.xlabel(f'number of batch')\n",
    "plt.title(f\"Computation time difference depending on batch number for the matrix methods, batch size = {100}\")\n",
    "plt.legend()\n",
    "plt.show()"
   ]
  },
  {
   "cell_type": "markdown",
   "id": "003822eb-ae51-4698-b0bc-a8ff8b50e07a",
   "metadata": {},
   "source": [
    "**On remarque ainsi que l'Attention est calculée bien plus rapidement en utilisant les deux méthodes de calculs tensoriel.**\n",
    "\n",
    "**En revanche, ces deux méthodes ont des temps de calcul très similaires**"
   ]
  }],
 "metadata": {
  "kernelspec": {
   "display_name": "Python 3 (ipykernel)",
   "language": "python",
   "name": "python3"
  },
  "language_info": {
   "codemirror_mode": {
    "name": "ipython",
    "version": 3
   },
   "file_extension": ".py",
   "mimetype": "text/x-python",
   "name": "python",
   "nbconvert_exporter": "python",
   "pygments_lexer": "ipython3",
   "version": "3.9.7"
  }
 },
 "nbformat": 4,
 "nbformat_minor": 5
}
  
